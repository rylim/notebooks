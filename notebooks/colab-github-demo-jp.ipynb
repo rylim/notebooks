{
  "cells": [
    {
      "cell_type": "markdown",
      "metadata": {
        "id": "view-in-github",
        "colab_type": "text"
      },
      "source": [
        "<a href=\"https://colab.research.google.com/github/rylim/notebooks/blob/main/notebooks/colab-github-demo-jp.ipynb\" target=\"_parent\"><img src=\"https://colab.research.google.com/assets/colab-badge.svg\" alt=\"Open In Colab\"/></a>"
      ]
    },
    {
      "cell_type": "markdown",
      "metadata": {
        "id": "-pVhOfzLx9us"
      },
      "source": [
        "# GitHub で Google Colab を使用する\n",
        "\n"
      ]
    },
    {
      "cell_type": "markdown",
      "metadata": {
        "id": "wKJ4bd5rt1wy"
      },
      "source": [
        "\n",
        "[Google Colaboratory](http://colab.research.google.com) は、GitHub ときれいに統合できるように設計されており、github からノートブックを読み込んだり、github にノートブックを保存したりできます。"
      ]
    },
    {
      "cell_type": "markdown",
      "metadata": {
        "id": "K-NVg7RjyeTk"
      },
      "source": [
        "## GitHub から直接パブリック ノートブックを読み込む\n",
        "\n",
        "Colab は、認証手順を必要とせずに、パブリック github ノートブックを直接読み込むことができます。\n",
        "\n",
        "たとえば、https://github.com/googlecolab/colabtools/blob/main/notebooks/colab-github-demo.ipynb のアドレスにあるノートブックについて考えてみます。\n",
        "\n",
        "このノートブックへの colab の直接リンクは、https://colab.research.google.com/github/googlecolab/colabtools/blob/main/notebooks/colab-github-demo.ipynb です。\n",
        "\n",
        "このようなリンクをワンクリックで生成するには、[Open in Colab](https://chrome.google.com/webstore/detail/open-in-colab/iogfkhleblhcpcekbiedikdehleodpjo) Chrome 拡張機能を使用できます。"
      ]
    },
    {
      "cell_type": "markdown",
      "metadata": {
        "id": "WzIRIt9d2huC"
      },
      "source": [
        "## Colab から GitHub リポジトリを参照する\n",
        "\n",
        "Colab は、任意のユーザー/組織、リポジトリ、またはブランチの GitHub ブラウザに直接リンクする特別な URL もサポートしています。例えば：\n",
        "\n",
        "- http://colab.research.google.com/github では、一般的な github ブラウザが表示され、任意の github 組織またはユーザー名を検索できます。\n",
        "- http://colab.research.google.com/github/googlecolab/ は ``googlecolab`` 組織のリポジトリ ブラウザを開きます。 ``googlecolab`` を他の github 組織またはユーザーに置き換えて、リポジトリを表示します。\n",
        "- http://colab.research.google.com/github/googlecolab/colabtools/ では、``googlecolab`` 組織内の ``colabtools`` リポジトリのメイン ブランチを参照できます。ユーザー/組織とリポジトリを置き換えて、そのコンテンツを表示します。\n",
        "- http://colab.research.google.com/github/googlecolab/colabtools/blob/main では、``googlecolab`` 組織内の ``colabtools`` リポジトリの ``main`` ブランチを参照できます。 (ここで ``blob`` を忘れないでください!) 任意の有効なリポジトリに対して任意の有効なブランチを指定できます。"
      ]
    },
    {
      "cell_type": "markdown",
      "metadata": {
        "id": "Rmai0dD30XzL"
      },
      "source": [
        "## プライベート ノートブックの読み込み\n",
        "\n",
        "プライベート GitHub リポジトリからノートブックを読み込むことは可能ですが、Colab がファイルにアクセスできるようにするための追加の手順が必要です。\n",
        "以下をせよ：\n",
        "\n",
        "1. http://colab.research.google.com/github に移動します。\n",
        "2. [Include Private Repos] チェックボックスをクリックします。\n",
        "3. ポップアップ ウィンドウで、Github アカウントにサインインし、Colab がプライベート ファイルを読み取ることを承認します。\n",
        "4. これで、プライベート リポジトリとノートブックが github ナビゲーション ペインから利用できるようになります。"
      ]
    },
    {
      "cell_type": "markdown",
      "metadata": {
        "id": "8J3NBxtZpPcK"
      },
      "source": [
        "## ノートブックを GitHub またはドライブに保存する\n",
        "\n",
        "GitHub でホストされているノートブックを Colab で開くと、ノートブックの新しい編集可能なビューが開きます。 ソースの上書きを心配することなく、ノートブックを実行および変更できます。\n",
        "\n",
        "Colab 内から変更を保存する場合は、[ファイル] メニューを使用して、変更したノートブックを Google ドライブまたは GitHub に保存できます。 **[ファイル]→[ドライブにコピーを保存]** または **[ファイル]→[コピーを GitHub に保存]** を選択し、表示されるプロンプトに従います。 Colab ノートブックを GitHub に保存するには、リポジトリにコミットをプッシュする権限を Colab に付与する必要があります。"
      ]
    },
    {
      "cell_type": "markdown",
      "metadata": {
        "id": "8QAWNjizy_3O"
      },
      "source": [
        "## Colabバッジで開く\n",
        "\n",
        "誰でも Colab 内で github でホストされているノートブックのコピーを開くことができます。 GitHub でホストされているノートブックのライブ ビューへのアクセス権を簡単に付与できるようにするために、\n",
        "colab は、次のように表示される [shields.io](http://shields.io/) スタイルのバッジを提供します。\n",
        "\n",
        "[![Colab で開く](https://colab.research.google.com/assets/colab-badge.svg)](https://colab.research.google.com/github/googlecolab/colabtools/blob/main/notebooks/colab-github-demo.ipynb)\n",
        "\n",
        "上記のバッジのマークダウンは次のとおりです。\n",
        "\n",
        "```markdown\n",
        "[![Colab で開く](https://colab.research.google.com/assets/colab-badge.svg)](https://colab.research.google.com/github/googlecolab/colabtools/blob/main/notebooks/colab-github-demo.ipynb)\n",
        "```\n",
        "\n",
        "同等の HTML は次のとおりです。\n",
        "\n",
        "```HTML\n",
        "<a href=\"https://colab.research.google.com/github/googlecolab/colabtools/blob/main/notebooks/colab-github-demo.ipynb\">\n",
        "  <img src=\"https://colab.research.google.com/assets/colab-badge.svg\" alt=\"Colab で開く\"/>\n",
        "</a>\n",
        "```\n",
        "\n",
        "このテンプレートのノートブックの URL を、リンク先のノートブックに置き換えることを忘れないでください。"
      ]
    },
    {
      "cell_type": "code",
      "execution_count": null,
      "metadata": {
        "id": "3VQqVi-3ScBC"
      },
      "outputs": [],
      "source": []
    }
  ],
  "metadata": {
    "colab": {
      "collapsed_sections": [],
      "name": "colab-github-demo.ipynb",
      "provenance": [],
      "include_colab_link": true
    },
    "kernelspec": {
      "display_name": "Python 3",
      "name": "python3"
    }
  },
  "nbformat": 4,
  "nbformat_minor": 0
}